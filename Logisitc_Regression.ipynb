{
  "nbformat": 4,
  "nbformat_minor": 0,
  "metadata": {
    "colab": {
      "provenance": []
    },
    "kernelspec": {
      "name": "python3",
      "display_name": "Python 3"
    },
    "language_info": {
      "name": "python"
    }
  },
  "cells": [
    {
      "cell_type": "markdown",
      "source": [
        "**Import Libraries**"
      ],
      "metadata": {
        "id": "CtWxpcoegTv_"
      }
    },
    {
      "cell_type": "code",
      "source": [
        "import pandas as pd\n",
        "import seaborn as sn"
      ],
      "metadata": {
        "id": "eq2Q1KuJgTiE"
      },
      "execution_count": 15,
      "outputs": []
    },
    {
      "cell_type": "markdown",
      "source": [
        "**Import Data From Dataset**"
      ],
      "metadata": {
        "id": "_9Z5vZkChGIZ"
      }
    },
    {
      "cell_type": "code",
      "source": [
        "df = pd.read_csv('HeartD.csv')"
      ],
      "metadata": {
        "id": "jVEQOgk1hEyn"
      },
      "execution_count": 4,
      "outputs": []
    },
    {
      "cell_type": "code",
      "source": [
        "df.head()"
      ],
      "metadata": {
        "colab": {
          "base_uri": "https://localhost:8080/",
          "height": 206
        },
        "id": "8SSxsn_JhT-X",
        "outputId": "3ed857bd-80aa-4b18-b5ab-28c833ddb10d"
      },
      "execution_count": 5,
      "outputs": [
        {
          "output_type": "execute_result",
          "data": {
            "text/plain": [
              "   male  age  education  currentSmoker  cigsPerDay  BPMeds  prevalentStroke  \\\n",
              "0     1   39        4.0              0         0.0     0.0                0   \n",
              "1     0   46        2.0              0         0.0     0.0                0   \n",
              "2     1   48        1.0              1        20.0     0.0                0   \n",
              "3     0   61        3.0              1        30.0     0.0                0   \n",
              "4     0   46        3.0              1        23.0     0.0                0   \n",
              "\n",
              "   prevalentHyp  diabetes  totChol  sysBP  diaBP    BMI  heartRate  glucose  \\\n",
              "0             0         0    195.0  106.0   70.0  26.97       80.0     77.0   \n",
              "1             0         0    250.0  121.0   81.0  28.73       95.0     76.0   \n",
              "2             0         0    245.0  127.5   80.0  25.34       75.0     70.0   \n",
              "3             1         0    225.0  150.0   95.0  28.58       65.0    103.0   \n",
              "4             0         0    285.0  130.0   84.0  23.10       85.0     85.0   \n",
              "\n",
              "   TenYearCHD  \n",
              "0           0  \n",
              "1           0  \n",
              "2           0  \n",
              "3           1  \n",
              "4           0  "
            ],
            "text/html": [
              "\n",
              "  <div id=\"df-2d56ba58-fdc6-4b77-9753-ec7c74283fcf\">\n",
              "    <div class=\"colab-df-container\">\n",
              "      <div>\n",
              "<style scoped>\n",
              "    .dataframe tbody tr th:only-of-type {\n",
              "        vertical-align: middle;\n",
              "    }\n",
              "\n",
              "    .dataframe tbody tr th {\n",
              "        vertical-align: top;\n",
              "    }\n",
              "\n",
              "    .dataframe thead th {\n",
              "        text-align: right;\n",
              "    }\n",
              "</style>\n",
              "<table border=\"1\" class=\"dataframe\">\n",
              "  <thead>\n",
              "    <tr style=\"text-align: right;\">\n",
              "      <th></th>\n",
              "      <th>male</th>\n",
              "      <th>age</th>\n",
              "      <th>education</th>\n",
              "      <th>currentSmoker</th>\n",
              "      <th>cigsPerDay</th>\n",
              "      <th>BPMeds</th>\n",
              "      <th>prevalentStroke</th>\n",
              "      <th>prevalentHyp</th>\n",
              "      <th>diabetes</th>\n",
              "      <th>totChol</th>\n",
              "      <th>sysBP</th>\n",
              "      <th>diaBP</th>\n",
              "      <th>BMI</th>\n",
              "      <th>heartRate</th>\n",
              "      <th>glucose</th>\n",
              "      <th>TenYearCHD</th>\n",
              "    </tr>\n",
              "  </thead>\n",
              "  <tbody>\n",
              "    <tr>\n",
              "      <th>0</th>\n",
              "      <td>1</td>\n",
              "      <td>39</td>\n",
              "      <td>4.0</td>\n",
              "      <td>0</td>\n",
              "      <td>0.0</td>\n",
              "      <td>0.0</td>\n",
              "      <td>0</td>\n",
              "      <td>0</td>\n",
              "      <td>0</td>\n",
              "      <td>195.0</td>\n",
              "      <td>106.0</td>\n",
              "      <td>70.0</td>\n",
              "      <td>26.97</td>\n",
              "      <td>80.0</td>\n",
              "      <td>77.0</td>\n",
              "      <td>0</td>\n",
              "    </tr>\n",
              "    <tr>\n",
              "      <th>1</th>\n",
              "      <td>0</td>\n",
              "      <td>46</td>\n",
              "      <td>2.0</td>\n",
              "      <td>0</td>\n",
              "      <td>0.0</td>\n",
              "      <td>0.0</td>\n",
              "      <td>0</td>\n",
              "      <td>0</td>\n",
              "      <td>0</td>\n",
              "      <td>250.0</td>\n",
              "      <td>121.0</td>\n",
              "      <td>81.0</td>\n",
              "      <td>28.73</td>\n",
              "      <td>95.0</td>\n",
              "      <td>76.0</td>\n",
              "      <td>0</td>\n",
              "    </tr>\n",
              "    <tr>\n",
              "      <th>2</th>\n",
              "      <td>1</td>\n",
              "      <td>48</td>\n",
              "      <td>1.0</td>\n",
              "      <td>1</td>\n",
              "      <td>20.0</td>\n",
              "      <td>0.0</td>\n",
              "      <td>0</td>\n",
              "      <td>0</td>\n",
              "      <td>0</td>\n",
              "      <td>245.0</td>\n",
              "      <td>127.5</td>\n",
              "      <td>80.0</td>\n",
              "      <td>25.34</td>\n",
              "      <td>75.0</td>\n",
              "      <td>70.0</td>\n",
              "      <td>0</td>\n",
              "    </tr>\n",
              "    <tr>\n",
              "      <th>3</th>\n",
              "      <td>0</td>\n",
              "      <td>61</td>\n",
              "      <td>3.0</td>\n",
              "      <td>1</td>\n",
              "      <td>30.0</td>\n",
              "      <td>0.0</td>\n",
              "      <td>0</td>\n",
              "      <td>1</td>\n",
              "      <td>0</td>\n",
              "      <td>225.0</td>\n",
              "      <td>150.0</td>\n",
              "      <td>95.0</td>\n",
              "      <td>28.58</td>\n",
              "      <td>65.0</td>\n",
              "      <td>103.0</td>\n",
              "      <td>1</td>\n",
              "    </tr>\n",
              "    <tr>\n",
              "      <th>4</th>\n",
              "      <td>0</td>\n",
              "      <td>46</td>\n",
              "      <td>3.0</td>\n",
              "      <td>1</td>\n",
              "      <td>23.0</td>\n",
              "      <td>0.0</td>\n",
              "      <td>0</td>\n",
              "      <td>0</td>\n",
              "      <td>0</td>\n",
              "      <td>285.0</td>\n",
              "      <td>130.0</td>\n",
              "      <td>84.0</td>\n",
              "      <td>23.10</td>\n",
              "      <td>85.0</td>\n",
              "      <td>85.0</td>\n",
              "      <td>0</td>\n",
              "    </tr>\n",
              "  </tbody>\n",
              "</table>\n",
              "</div>\n",
              "      <button class=\"colab-df-convert\" onclick=\"convertToInteractive('df-2d56ba58-fdc6-4b77-9753-ec7c74283fcf')\"\n",
              "              title=\"Convert this dataframe to an interactive table.\"\n",
              "              style=\"display:none;\">\n",
              "        \n",
              "  <svg xmlns=\"http://www.w3.org/2000/svg\" height=\"24px\"viewBox=\"0 0 24 24\"\n",
              "       width=\"24px\">\n",
              "    <path d=\"M0 0h24v24H0V0z\" fill=\"none\"/>\n",
              "    <path d=\"M18.56 5.44l.94 2.06.94-2.06 2.06-.94-2.06-.94-.94-2.06-.94 2.06-2.06.94zm-11 1L8.5 8.5l.94-2.06 2.06-.94-2.06-.94L8.5 2.5l-.94 2.06-2.06.94zm10 10l.94 2.06.94-2.06 2.06-.94-2.06-.94-.94-2.06-.94 2.06-2.06.94z\"/><path d=\"M17.41 7.96l-1.37-1.37c-.4-.4-.92-.59-1.43-.59-.52 0-1.04.2-1.43.59L10.3 9.45l-7.72 7.72c-.78.78-.78 2.05 0 2.83L4 21.41c.39.39.9.59 1.41.59.51 0 1.02-.2 1.41-.59l7.78-7.78 2.81-2.81c.8-.78.8-2.07 0-2.86zM5.41 20L4 18.59l7.72-7.72 1.47 1.35L5.41 20z\"/>\n",
              "  </svg>\n",
              "      </button>\n",
              "      \n",
              "  <style>\n",
              "    .colab-df-container {\n",
              "      display:flex;\n",
              "      flex-wrap:wrap;\n",
              "      gap: 12px;\n",
              "    }\n",
              "\n",
              "    .colab-df-convert {\n",
              "      background-color: #E8F0FE;\n",
              "      border: none;\n",
              "      border-radius: 50%;\n",
              "      cursor: pointer;\n",
              "      display: none;\n",
              "      fill: #1967D2;\n",
              "      height: 32px;\n",
              "      padding: 0 0 0 0;\n",
              "      width: 32px;\n",
              "    }\n",
              "\n",
              "    .colab-df-convert:hover {\n",
              "      background-color: #E2EBFA;\n",
              "      box-shadow: 0px 1px 2px rgba(60, 64, 67, 0.3), 0px 1px 3px 1px rgba(60, 64, 67, 0.15);\n",
              "      fill: #174EA6;\n",
              "    }\n",
              "\n",
              "    [theme=dark] .colab-df-convert {\n",
              "      background-color: #3B4455;\n",
              "      fill: #D2E3FC;\n",
              "    }\n",
              "\n",
              "    [theme=dark] .colab-df-convert:hover {\n",
              "      background-color: #434B5C;\n",
              "      box-shadow: 0px 1px 3px 1px rgba(0, 0, 0, 0.15);\n",
              "      filter: drop-shadow(0px 1px 2px rgba(0, 0, 0, 0.3));\n",
              "      fill: #FFFFFF;\n",
              "    }\n",
              "  </style>\n",
              "\n",
              "      <script>\n",
              "        const buttonEl =\n",
              "          document.querySelector('#df-2d56ba58-fdc6-4b77-9753-ec7c74283fcf button.colab-df-convert');\n",
              "        buttonEl.style.display =\n",
              "          google.colab.kernel.accessAllowed ? 'block' : 'none';\n",
              "\n",
              "        async function convertToInteractive(key) {\n",
              "          const element = document.querySelector('#df-2d56ba58-fdc6-4b77-9753-ec7c74283fcf');\n",
              "          const dataTable =\n",
              "            await google.colab.kernel.invokeFunction('convertToInteractive',\n",
              "                                                     [key], {});\n",
              "          if (!dataTable) return;\n",
              "\n",
              "          const docLinkHtml = 'Like what you see? Visit the ' +\n",
              "            '<a target=\"_blank\" href=https://colab.research.google.com/notebooks/data_table.ipynb>data table notebook</a>'\n",
              "            + ' to learn more about interactive tables.';\n",
              "          element.innerHTML = '';\n",
              "          dataTable['output_type'] = 'display_data';\n",
              "          await google.colab.output.renderOutput(dataTable, element);\n",
              "          const docLink = document.createElement('div');\n",
              "          docLink.innerHTML = docLinkHtml;\n",
              "          element.appendChild(docLink);\n",
              "        }\n",
              "      </script>\n",
              "    </div>\n",
              "  </div>\n",
              "  "
            ]
          },
          "metadata": {},
          "execution_count": 5
        }
      ]
    },
    {
      "cell_type": "markdown",
      "source": [
        "**Remove Unwanted Column**"
      ],
      "metadata": {
        "id": "MOZgD3ckhkuO"
      }
    },
    {
      "cell_type": "code",
      "source": [
        "df.drop(['education'] , axis=1 , inplace=True)"
      ],
      "metadata": {
        "id": "ica22I3Yhj_Q"
      },
      "execution_count": 6,
      "outputs": []
    },
    {
      "cell_type": "code",
      "source": [
        "df.head()"
      ],
      "metadata": {
        "colab": {
          "base_uri": "https://localhost:8080/",
          "height": 206
        },
        "id": "pbIZ05pph9QT",
        "outputId": "dd3cbe6d-0800-4661-e297-c347dbe9b321"
      },
      "execution_count": 7,
      "outputs": [
        {
          "output_type": "execute_result",
          "data": {
            "text/plain": [
              "   male  age  currentSmoker  cigsPerDay  BPMeds  prevalentStroke  \\\n",
              "0     1   39              0         0.0     0.0                0   \n",
              "1     0   46              0         0.0     0.0                0   \n",
              "2     1   48              1        20.0     0.0                0   \n",
              "3     0   61              1        30.0     0.0                0   \n",
              "4     0   46              1        23.0     0.0                0   \n",
              "\n",
              "   prevalentHyp  diabetes  totChol  sysBP  diaBP    BMI  heartRate  glucose  \\\n",
              "0             0         0    195.0  106.0   70.0  26.97       80.0     77.0   \n",
              "1             0         0    250.0  121.0   81.0  28.73       95.0     76.0   \n",
              "2             0         0    245.0  127.5   80.0  25.34       75.0     70.0   \n",
              "3             1         0    225.0  150.0   95.0  28.58       65.0    103.0   \n",
              "4             0         0    285.0  130.0   84.0  23.10       85.0     85.0   \n",
              "\n",
              "   TenYearCHD  \n",
              "0           0  \n",
              "1           0  \n",
              "2           0  \n",
              "3           1  \n",
              "4           0  "
            ],
            "text/html": [
              "\n",
              "  <div id=\"df-8e6976f4-e05d-488c-8cd1-32137ed46b8d\">\n",
              "    <div class=\"colab-df-container\">\n",
              "      <div>\n",
              "<style scoped>\n",
              "    .dataframe tbody tr th:only-of-type {\n",
              "        vertical-align: middle;\n",
              "    }\n",
              "\n",
              "    .dataframe tbody tr th {\n",
              "        vertical-align: top;\n",
              "    }\n",
              "\n",
              "    .dataframe thead th {\n",
              "        text-align: right;\n",
              "    }\n",
              "</style>\n",
              "<table border=\"1\" class=\"dataframe\">\n",
              "  <thead>\n",
              "    <tr style=\"text-align: right;\">\n",
              "      <th></th>\n",
              "      <th>male</th>\n",
              "      <th>age</th>\n",
              "      <th>currentSmoker</th>\n",
              "      <th>cigsPerDay</th>\n",
              "      <th>BPMeds</th>\n",
              "      <th>prevalentStroke</th>\n",
              "      <th>prevalentHyp</th>\n",
              "      <th>diabetes</th>\n",
              "      <th>totChol</th>\n",
              "      <th>sysBP</th>\n",
              "      <th>diaBP</th>\n",
              "      <th>BMI</th>\n",
              "      <th>heartRate</th>\n",
              "      <th>glucose</th>\n",
              "      <th>TenYearCHD</th>\n",
              "    </tr>\n",
              "  </thead>\n",
              "  <tbody>\n",
              "    <tr>\n",
              "      <th>0</th>\n",
              "      <td>1</td>\n",
              "      <td>39</td>\n",
              "      <td>0</td>\n",
              "      <td>0.0</td>\n",
              "      <td>0.0</td>\n",
              "      <td>0</td>\n",
              "      <td>0</td>\n",
              "      <td>0</td>\n",
              "      <td>195.0</td>\n",
              "      <td>106.0</td>\n",
              "      <td>70.0</td>\n",
              "      <td>26.97</td>\n",
              "      <td>80.0</td>\n",
              "      <td>77.0</td>\n",
              "      <td>0</td>\n",
              "    </tr>\n",
              "    <tr>\n",
              "      <th>1</th>\n",
              "      <td>0</td>\n",
              "      <td>46</td>\n",
              "      <td>0</td>\n",
              "      <td>0.0</td>\n",
              "      <td>0.0</td>\n",
              "      <td>0</td>\n",
              "      <td>0</td>\n",
              "      <td>0</td>\n",
              "      <td>250.0</td>\n",
              "      <td>121.0</td>\n",
              "      <td>81.0</td>\n",
              "      <td>28.73</td>\n",
              "      <td>95.0</td>\n",
              "      <td>76.0</td>\n",
              "      <td>0</td>\n",
              "    </tr>\n",
              "    <tr>\n",
              "      <th>2</th>\n",
              "      <td>1</td>\n",
              "      <td>48</td>\n",
              "      <td>1</td>\n",
              "      <td>20.0</td>\n",
              "      <td>0.0</td>\n",
              "      <td>0</td>\n",
              "      <td>0</td>\n",
              "      <td>0</td>\n",
              "      <td>245.0</td>\n",
              "      <td>127.5</td>\n",
              "      <td>80.0</td>\n",
              "      <td>25.34</td>\n",
              "      <td>75.0</td>\n",
              "      <td>70.0</td>\n",
              "      <td>0</td>\n",
              "    </tr>\n",
              "    <tr>\n",
              "      <th>3</th>\n",
              "      <td>0</td>\n",
              "      <td>61</td>\n",
              "      <td>1</td>\n",
              "      <td>30.0</td>\n",
              "      <td>0.0</td>\n",
              "      <td>0</td>\n",
              "      <td>1</td>\n",
              "      <td>0</td>\n",
              "      <td>225.0</td>\n",
              "      <td>150.0</td>\n",
              "      <td>95.0</td>\n",
              "      <td>28.58</td>\n",
              "      <td>65.0</td>\n",
              "      <td>103.0</td>\n",
              "      <td>1</td>\n",
              "    </tr>\n",
              "    <tr>\n",
              "      <th>4</th>\n",
              "      <td>0</td>\n",
              "      <td>46</td>\n",
              "      <td>1</td>\n",
              "      <td>23.0</td>\n",
              "      <td>0.0</td>\n",
              "      <td>0</td>\n",
              "      <td>0</td>\n",
              "      <td>0</td>\n",
              "      <td>285.0</td>\n",
              "      <td>130.0</td>\n",
              "      <td>84.0</td>\n",
              "      <td>23.10</td>\n",
              "      <td>85.0</td>\n",
              "      <td>85.0</td>\n",
              "      <td>0</td>\n",
              "    </tr>\n",
              "  </tbody>\n",
              "</table>\n",
              "</div>\n",
              "      <button class=\"colab-df-convert\" onclick=\"convertToInteractive('df-8e6976f4-e05d-488c-8cd1-32137ed46b8d')\"\n",
              "              title=\"Convert this dataframe to an interactive table.\"\n",
              "              style=\"display:none;\">\n",
              "        \n",
              "  <svg xmlns=\"http://www.w3.org/2000/svg\" height=\"24px\"viewBox=\"0 0 24 24\"\n",
              "       width=\"24px\">\n",
              "    <path d=\"M0 0h24v24H0V0z\" fill=\"none\"/>\n",
              "    <path d=\"M18.56 5.44l.94 2.06.94-2.06 2.06-.94-2.06-.94-.94-2.06-.94 2.06-2.06.94zm-11 1L8.5 8.5l.94-2.06 2.06-.94-2.06-.94L8.5 2.5l-.94 2.06-2.06.94zm10 10l.94 2.06.94-2.06 2.06-.94-2.06-.94-.94-2.06-.94 2.06-2.06.94z\"/><path d=\"M17.41 7.96l-1.37-1.37c-.4-.4-.92-.59-1.43-.59-.52 0-1.04.2-1.43.59L10.3 9.45l-7.72 7.72c-.78.78-.78 2.05 0 2.83L4 21.41c.39.39.9.59 1.41.59.51 0 1.02-.2 1.41-.59l7.78-7.78 2.81-2.81c.8-.78.8-2.07 0-2.86zM5.41 20L4 18.59l7.72-7.72 1.47 1.35L5.41 20z\"/>\n",
              "  </svg>\n",
              "      </button>\n",
              "      \n",
              "  <style>\n",
              "    .colab-df-container {\n",
              "      display:flex;\n",
              "      flex-wrap:wrap;\n",
              "      gap: 12px;\n",
              "    }\n",
              "\n",
              "    .colab-df-convert {\n",
              "      background-color: #E8F0FE;\n",
              "      border: none;\n",
              "      border-radius: 50%;\n",
              "      cursor: pointer;\n",
              "      display: none;\n",
              "      fill: #1967D2;\n",
              "      height: 32px;\n",
              "      padding: 0 0 0 0;\n",
              "      width: 32px;\n",
              "    }\n",
              "\n",
              "    .colab-df-convert:hover {\n",
              "      background-color: #E2EBFA;\n",
              "      box-shadow: 0px 1px 2px rgba(60, 64, 67, 0.3), 0px 1px 3px 1px rgba(60, 64, 67, 0.15);\n",
              "      fill: #174EA6;\n",
              "    }\n",
              "\n",
              "    [theme=dark] .colab-df-convert {\n",
              "      background-color: #3B4455;\n",
              "      fill: #D2E3FC;\n",
              "    }\n",
              "\n",
              "    [theme=dark] .colab-df-convert:hover {\n",
              "      background-color: #434B5C;\n",
              "      box-shadow: 0px 1px 3px 1px rgba(0, 0, 0, 0.15);\n",
              "      filter: drop-shadow(0px 1px 2px rgba(0, 0, 0, 0.3));\n",
              "      fill: #FFFFFF;\n",
              "    }\n",
              "  </style>\n",
              "\n",
              "      <script>\n",
              "        const buttonEl =\n",
              "          document.querySelector('#df-8e6976f4-e05d-488c-8cd1-32137ed46b8d button.colab-df-convert');\n",
              "        buttonEl.style.display =\n",
              "          google.colab.kernel.accessAllowed ? 'block' : 'none';\n",
              "\n",
              "        async function convertToInteractive(key) {\n",
              "          const element = document.querySelector('#df-8e6976f4-e05d-488c-8cd1-32137ed46b8d');\n",
              "          const dataTable =\n",
              "            await google.colab.kernel.invokeFunction('convertToInteractive',\n",
              "                                                     [key], {});\n",
              "          if (!dataTable) return;\n",
              "\n",
              "          const docLinkHtml = 'Like what you see? Visit the ' +\n",
              "            '<a target=\"_blank\" href=https://colab.research.google.com/notebooks/data_table.ipynb>data table notebook</a>'\n",
              "            + ' to learn more about interactive tables.';\n",
              "          element.innerHTML = '';\n",
              "          dataTable['output_type'] = 'display_data';\n",
              "          await google.colab.output.renderOutput(dataTable, element);\n",
              "          const docLink = document.createElement('div');\n",
              "          docLink.innerHTML = docLinkHtml;\n",
              "          element.appendChild(docLink);\n",
              "        }\n",
              "      </script>\n",
              "    </div>\n",
              "  </div>\n",
              "  "
            ]
          },
          "metadata": {},
          "execution_count": 7
        }
      ]
    },
    {
      "cell_type": "markdown",
      "source": [
        "**To Check the Null Value**"
      ],
      "metadata": {
        "id": "tjG3QSW6iQPM"
      }
    },
    {
      "cell_type": "code",
      "source": [
        "df.isnull().sum()"
      ],
      "metadata": {
        "colab": {
          "base_uri": "https://localhost:8080/"
        },
        "id": "2QB_wYkWiIMl",
        "outputId": "e6a9f29a-bf21-4caa-923f-89809609103b"
      },
      "execution_count": 8,
      "outputs": [
        {
          "output_type": "execute_result",
          "data": {
            "text/plain": [
              "male                 0\n",
              "age                  0\n",
              "currentSmoker        0\n",
              "cigsPerDay          29\n",
              "BPMeds              53\n",
              "prevalentStroke      0\n",
              "prevalentHyp         0\n",
              "diabetes             0\n",
              "totChol             50\n",
              "sysBP                0\n",
              "diaBP                0\n",
              "BMI                 19\n",
              "heartRate            1\n",
              "glucose            388\n",
              "TenYearCHD           0\n",
              "dtype: int64"
            ]
          },
          "metadata": {},
          "execution_count": 8
        }
      ]
    },
    {
      "cell_type": "code",
      "source": [
        "df.isnull().count()"
      ],
      "metadata": {
        "colab": {
          "base_uri": "https://localhost:8080/"
        },
        "id": "Q7Us7If3kQjE",
        "outputId": "84c6c01f-d72f-4c2b-a523-ae86a72f8d41"
      },
      "execution_count": 9,
      "outputs": [
        {
          "output_type": "execute_result",
          "data": {
            "text/plain": [
              "male               4238\n",
              "age                4238\n",
              "currentSmoker      4238\n",
              "cigsPerDay         4238\n",
              "BPMeds             4238\n",
              "prevalentStroke    4238\n",
              "prevalentHyp       4238\n",
              "diabetes           4238\n",
              "totChol            4238\n",
              "sysBP              4238\n",
              "diaBP              4238\n",
              "BMI                4238\n",
              "heartRate          4238\n",
              "glucose            4238\n",
              "TenYearCHD         4238\n",
              "dtype: int64"
            ]
          },
          "metadata": {},
          "execution_count": 9
        }
      ]
    },
    {
      "cell_type": "code",
      "source": [
        "#To Remove Null value in dataset/dataframe\n",
        "df.dropna(axis=0 , inplace=True)"
      ],
      "metadata": {
        "id": "YuCN0owTkmgs"
      },
      "execution_count": 10,
      "outputs": []
    },
    {
      "cell_type": "code",
      "source": [
        "df.isnull().count()"
      ],
      "metadata": {
        "colab": {
          "base_uri": "https://localhost:8080/"
        },
        "id": "h3i2H1EDkpvg",
        "outputId": "ef550e68-c9da-4d34-d35d-b7cd08b61707"
      },
      "execution_count": 11,
      "outputs": [
        {
          "output_type": "execute_result",
          "data": {
            "text/plain": [
              "male               3749\n",
              "age                3749\n",
              "currentSmoker      3749\n",
              "cigsPerDay         3749\n",
              "BPMeds             3749\n",
              "prevalentStroke    3749\n",
              "prevalentHyp       3749\n",
              "diabetes           3749\n",
              "totChol            3749\n",
              "sysBP              3749\n",
              "diaBP              3749\n",
              "BMI                3749\n",
              "heartRate          3749\n",
              "glucose            3749\n",
              "TenYearCHD         3749\n",
              "dtype: int64"
            ]
          },
          "metadata": {},
          "execution_count": 11
        }
      ]
    },
    {
      "cell_type": "code",
      "source": [
        "#To calculate the TenYearCHD value count\n",
        "df.TenYearCHD.value_counts()"
      ],
      "metadata": {
        "colab": {
          "base_uri": "https://localhost:8080/"
        },
        "id": "ykdV2WETk4HB",
        "outputId": "d3da22d4-0b53-4176-c94f-ac12c1bc6305"
      },
      "execution_count": 12,
      "outputs": [
        {
          "output_type": "execute_result",
          "data": {
            "text/plain": [
              "0    3177\n",
              "1     572\n",
              "Name: TenYearCHD, dtype: int64"
            ]
          },
          "metadata": {},
          "execution_count": 12
        }
      ]
    },
    {
      "cell_type": "code",
      "source": [
        "#To Represent The Countplot Diagram \n",
        "sn.countplot(x='TenYearCHD' , data = df)"
      ],
      "metadata": {
        "colab": {
          "base_uri": "https://localhost:8080/",
          "height": 296
        },
        "id": "DFu83qR-lYgo",
        "outputId": "a88c83b2-8bf3-40b0-9756-073c2cc202ac"
      },
      "execution_count": 13,
      "outputs": [
        {
          "output_type": "execute_result",
          "data": {
            "text/plain": [
              "<matplotlib.axes._subplots.AxesSubplot at 0x7fc64cd64790>"
            ]
          },
          "metadata": {},
          "execution_count": 13
        },
        {
          "output_type": "display_data",
          "data": {
            "text/plain": [
              "<Figure size 432x288 with 1 Axes>"
            ],
            "image/png": "[encoded data removed]"
          },
          "metadata": {
            "needs_background": "light"
          }
        }
      ]
    },
    {
      "cell_type": "code",
      "source": [
        "df.describe()"
      ],
      "metadata": {
        "colab": {
          "base_uri": "https://localhost:8080/",
          "height": 364
        },
        "id": "uNXJI2oHSXcT",
        "outputId": "8cfb4493-3b7c-4cea-e6b7-71d456367e68"
      },
      "execution_count": 14,
      "outputs": [
        {
          "output_type": "execute_result",
          "data": {
            "text/plain": [
              "              male          age  currentSmoker   cigsPerDay       BPMeds  \\\n",
              "count  3749.000000  3749.000000    3749.000000  3749.000000  3749.000000   \n",
              "mean      0.445185    49.578821       0.488397     9.005335     0.030408   \n",
              "std       0.497053     8.569322       0.499932    11.922440     0.171730   \n",
              "min       0.000000    32.000000       0.000000     0.000000     0.000000   \n",
              "25%       0.000000    42.000000       0.000000     0.000000     0.000000   \n",
              "50%       0.000000    49.000000       0.000000     0.000000     0.000000   \n",
              "75%       1.000000    56.000000       1.000000    20.000000     0.000000   \n",
              "max       1.000000    70.000000       1.000000    70.000000     1.000000   \n",
              "\n",
              "       prevalentStroke  prevalentHyp     diabetes      totChol        sysBP  \\\n",
              "count      3749.000000   3749.000000  3749.000000  3749.000000  3749.000000   \n",
              "mean          0.005601      0.311816     0.027207   236.952787   132.365964   \n",
              "std           0.074643      0.463297     0.162709    44.610417    22.051951   \n",
              "min           0.000000      0.000000     0.000000   113.000000    83.500000   \n",
              "25%           0.000000      0.000000     0.000000   206.000000   117.000000   \n",
              "50%           0.000000      0.000000     0.000000   234.000000   128.000000   \n",
              "75%           0.000000      1.000000     0.000000   264.000000   144.000000   \n",
              "max           1.000000      1.000000     1.000000   696.000000   295.000000   \n",
              "\n",
              "             diaBP          BMI    heartRate      glucose   TenYearCHD  \n",
              "count  3749.000000  3749.000000  3749.000000  3749.000000  3749.000000  \n",
              "mean     82.933716    25.809651    75.703921    81.883169     0.152574  \n",
              "std      11.933321     4.065894    11.957763    23.888039     0.359624  \n",
              "min      48.000000    15.540000    44.000000    40.000000     0.000000  \n",
              "25%      75.000000    23.090000    68.000000    71.000000     0.000000  \n",
              "50%      82.000000    25.410000    75.000000    78.000000     0.000000  \n",
              "75%      90.000000    28.060000    82.000000    87.000000     0.000000  \n",
              "max     142.500000    56.800000   143.000000   394.000000     1.000000  "
            ],
            "text/html": [
              "\n",
              "  <div id=\"df-5cb46901-ad86-480c-860d-039cab614a52\">\n",
              "    <div class=\"colab-df-container\">\n",
              "      <div>\n",
              "<style scoped>\n",
              "    .dataframe tbody tr th:only-of-type {\n",
              "        vertical-align: middle;\n",
              "    }\n",
              "\n",
              "    .dataframe tbody tr th {\n",
              "        vertical-align: top;\n",
              "    }\n",
              "\n",
              "    .dataframe thead th {\n",
              "        text-align: right;\n",
              "    }\n",
              "</style>\n",
              "<table border=\"1\" class=\"dataframe\">\n",
              "  <thead>\n",
              "    <tr style=\"text-align: right;\">\n",
              "      <th></th>\n",
              "      <th>male</th>\n",
              "      <th>age</th>\n",
              "      <th>currentSmoker</th>\n",
              "      <th>cigsPerDay</th>\n",
              "      <th>BPMeds</th>\n",
              "      <th>prevalentStroke</th>\n",
              "      <th>prevalentHyp</th>\n",
              "      <th>diabetes</th>\n",
              "      <th>totChol</th>\n",
              "      <th>sysBP</th>\n",
              "      <th>diaBP</th>\n",
              "      <th>BMI</th>\n",
              "      <th>heartRate</th>\n",
              "      <th>glucose</th>\n",
              "      <th>TenYearCHD</th>\n",
              "    </tr>\n",
              "  </thead>\n",
              "  <tbody>\n",
              "    <tr>\n",
              "      <th>count</th>\n",
              "      <td>3749.000000</td>\n",
              "      <td>3749.000000</td>\n",
              "      <td>3749.000000</td>\n",
              "      <td>3749.000000</td>\n",
              "      <td>3749.000000</td>\n",
              "      <td>3749.000000</td>\n",
              "      <td>3749.000000</td>\n",
              "      <td>3749.000000</td>\n",
              "      <td>3749.000000</td>\n",
              "      <td>3749.000000</td>\n",
              "      <td>3749.000000</td>\n",
              "      <td>3749.000000</td>\n",
              "      <td>3749.000000</td>\n",
              "      <td>3749.000000</td>\n",
              "      <td>3749.000000</td>\n",
              "    </tr>\n",
              "    <tr>\n",
              "      <th>mean</th>\n",
              "      <td>0.445185</td>\n",
              "      <td>49.578821</td>\n",
              "      <td>0.488397</td>\n",
              "      <td>9.005335</td>\n",
              "      <td>0.030408</td>\n",
              "      <td>0.005601</td>\n",
              "      <td>0.311816</td>\n",
              "      <td>0.027207</td>\n",
              "      <td>236.952787</td>\n",
              "      <td>132.365964</td>\n",
              "      <td>82.933716</td>\n",
              "      <td>25.809651</td>\n",
              "      <td>75.703921</td>\n",
              "      <td>81.883169</td>\n",
              "      <td>0.152574</td>\n",
              "    </tr>\n",
              "    <tr>\n",
              "      <th>std</th>\n",
              "      <td>0.497053</td>\n",
              "      <td>8.569322</td>\n",
              "      <td>0.499932</td>\n",
              "      <td>11.922440</td>\n",
              "      <td>0.171730</td>\n",
              "      <td>0.074643</td>\n",
              "      <td>0.463297</td>\n",
              "      <td>0.162709</td>\n",
              "      <td>44.610417</td>\n",
              "      <td>22.051951</td>\n",
              "      <td>11.933321</td>\n",
              "      <td>4.065894</td>\n",
              "      <td>11.957763</td>\n",
              "      <td>23.888039</td>\n",
              "      <td>0.359624</td>\n",
              "    </tr>\n",
              "    <tr>\n",
              "      <th>min</th>\n",
              "      <td>0.000000</td>\n",
              "      <td>32.000000</td>\n",
              "      <td>0.000000</td>\n",
              "      <td>0.000000</td>\n",
              "      <td>0.000000</td>\n",
              "      <td>0.000000</td>\n",
              "      <td>0.000000</td>\n",
              "      <td>0.000000</td>\n",
              "      <td>113.000000</td>\n",
              "      <td>83.500000</td>\n",
              "      <td>48.000000</td>\n",
              "      <td>15.540000</td>\n",
              "      <td>44.000000</td>\n",
              "      <td>40.000000</td>\n",
              "      <td>0.000000</td>\n",
              "    </tr>\n",
              "    <tr>\n",
              "      <th>25%</th>\n",
              "      <td>0.000000</td>\n",
              "      <td>42.000000</td>\n",
              "      <td>0.000000</td>\n",
              "      <td>0.000000</td>\n",
              "      <td>0.000000</td>\n",
              "      <td>0.000000</td>\n",
              "      <td>0.000000</td>\n",
              "      <td>0.000000</td>\n",
              "      <td>206.000000</td>\n",
              "      <td>117.000000</td>\n",
              "      <td>75.000000</td>\n",
              "      <td>23.090000</td>\n",
              "      <td>68.000000</td>\n",
              "      <td>71.000000</td>\n",
              "      <td>0.000000</td>\n",
              "    </tr>\n",
              "    <tr>\n",
              "      <th>50%</th>\n",
              "      <td>0.000000</td>\n",
              "      <td>49.000000</td>\n",
              "      <td>0.000000</td>\n",
              "      <td>0.000000</td>\n",
              "      <td>0.000000</td>\n",
              "      <td>0.000000</td>\n",
              "      <td>0.000000</td>\n",
              "      <td>0.000000</td>\n",
              "      <td>234.000000</td>\n",
              "      <td>128.000000</td>\n",
              "      <td>82.000000</td>\n",
              "      <td>25.410000</td>\n",
              "      <td>75.000000</td>\n",
              "      <td>78.000000</td>\n",
              "      <td>0.000000</td>\n",
              "    </tr>\n",
              "    <tr>\n",
              "      <th>75%</th>\n",
              "      <td>1.000000</td>\n",
              "      <td>56.000000</td>\n",
              "      <td>1.000000</td>\n",
              "      <td>20.000000</td>\n",
              "      <td>0.000000</td>\n",
              "      <td>0.000000</td>\n",
              "      <td>1.000000</td>\n",
              "      <td>0.000000</td>\n",
              "      <td>264.000000</td>\n",
              "      <td>144.000000</td>\n",
              "      <td>90.000000</td>\n",
              "      <td>28.060000</td>\n",
              "      <td>82.000000</td>\n",
              "      <td>87.000000</td>\n",
              "      <td>0.000000</td>\n",
              "    </tr>\n",
              "    <tr>\n",
              "      <th>max</th>\n",
              "      <td>1.000000</td>\n",
              "      <td>70.000000</td>\n",
              "      <td>1.000000</td>\n",
              "      <td>70.000000</td>\n",
              "      <td>1.000000</td>\n",
              "      <td>1.000000</td>\n",
              "      <td>1.000000</td>\n",
              "      <td>1.000000</td>\n",
              "      <td>696.000000</td>\n",
              "      <td>295.000000</td>\n",
              "      <td>142.500000</td>\n",
              "      <td>56.800000</td>\n",
              "      <td>143.000000</td>\n",
              "      <td>394.000000</td>\n",
              "      <td>1.000000</td>\n",
              "    </tr>\n",
              "  </tbody>\n",
              "</table>\n",
              "</div>\n",
              "      <button class=\"colab-df-convert\" onclick=\"convertToInteractive('df-5cb46901-ad86-480c-860d-039cab614a52')\"\n",
              "              title=\"Convert this dataframe to an interactive table.\"\n",
              "              style=\"display:none;\">\n",
              "        \n",
              "  <svg xmlns=\"http://www.w3.org/2000/svg\" height=\"24px\"viewBox=\"0 0 24 24\"\n",
              "       width=\"24px\">\n",
              "    <path d=\"M0 0h24v24H0V0z\" fill=\"none\"/>\n",
              "    <path d=\"M18.56 5.44l.94 2.06.94-2.06 2.06-.94-2.06-.94-.94-2.06-.94 2.06-2.06.94zm-11 1L8.5 8.5l.94-2.06 2.06-.94-2.06-.94L8.5 2.5l-.94 2.06-2.06.94zm10 10l.94 2.06.94-2.06 2.06-.94-2.06-.94-.94-2.06-.94 2.06-2.06.94z\"/><path d=\"M17.41 7.96l-1.37-1.37c-.4-.4-.92-.59-1.43-.59-.52 0-1.04.2-1.43.59L10.3 9.45l-7.72 7.72c-.78.78-.78 2.05 0 2.83L4 21.41c.39.39.9.59 1.41.59.51 0 1.02-.2 1.41-.59l7.78-7.78 2.81-2.81c.8-.78.8-2.07 0-2.86zM5.41 20L4 18.59l7.72-7.72 1.47 1.35L5.41 20z\"/>\n",
              "  </svg>\n",
              "      </button>\n",
              "      \n",
              "  <style>\n",
              "    .colab-df-container {\n",
              "      display:flex;\n",
              "      flex-wrap:wrap;\n",
              "      gap: 12px;\n",
              "    }\n",
              "\n",
              "    .colab-df-convert {\n",
              "      background-color: #E8F0FE;\n",
              "      border: none;\n",
              "      border-radius: 50%;\n",
              "      cursor: pointer;\n",
              "      display: none;\n",
              "      fill: #1967D2;\n",
              "      height: 32px;\n",
              "      padding: 0 0 0 0;\n",
              "      width: 32px;\n",
              "    }\n",
              "\n",
              "    .colab-df-convert:hover {\n",
              "      background-color: #E2EBFA;\n",
              "      box-shadow: 0px 1px 2px rgba(60, 64, 67, 0.3), 0px 1px 3px 1px rgba(60, 64, 67, 0.15);\n",
              "      fill: #174EA6;\n",
              "    }\n",
              "\n",
              "    [theme=dark] .colab-df-convert {\n",
              "      background-color: #3B4455;\n",
              "      fill: #D2E3FC;\n",
              "    }\n",
              "\n",
              "    [theme=dark] .colab-df-convert:hover {\n",
              "      background-color: #434B5C;\n",
              "      box-shadow: 0px 1px 3px 1px rgba(0, 0, 0, 0.15);\n",
              "      filter: drop-shadow(0px 1px 2px rgba(0, 0, 0, 0.3));\n",
              "      fill: #FFFFFF;\n",
              "    }\n",
              "  </style>\n",
              "\n",
              "      <script>\n",
              "        const buttonEl =\n",
              "          document.querySelector('#df-5cb46901-ad86-480c-860d-039cab614a52 button.colab-df-convert');\n",
              "        buttonEl.style.display =\n",
              "          google.colab.kernel.accessAllowed ? 'block' : 'none';\n",
              "\n",
              "        async function convertToInteractive(key) {\n",
              "          const element = document.querySelector('#df-5cb46901-ad86-480c-860d-039cab614a52');\n",
              "          const dataTable =\n",
              "            await google.colab.kernel.invokeFunction('convertToInteractive',\n",
              "                                                     [key], {});\n",
              "          if (!dataTable) return;\n",
              "\n",
              "          const docLinkHtml = 'Like what you see? Visit the ' +\n",
              "            '<a target=\"_blank\" href=https://colab.research.google.com/notebooks/data_table.ipynb>data table notebook</a>'\n",
              "            + ' to learn more about interactive tables.';\n",
              "          element.innerHTML = '';\n",
              "          dataTable['output_type'] = 'display_data';\n",
              "          await google.colab.output.renderOutput(dataTable, element);\n",
              "          const docLink = document.createElement('div');\n",
              "          docLink.innerHTML = docLinkHtml;\n",
              "          element.appendChild(docLink);\n",
              "        }\n",
              "      </script>\n",
              "    </div>\n",
              "  </div>\n",
              "  "
            ]
          },
          "metadata": {},
          "execution_count": 14
        }
      ]
    },
    {
      "cell_type": "markdown",
      "source": [
        "**Train Data Set**"
      ],
      "metadata": {
        "id": "OckaNONNTTjH"
      }
    },
    {
      "cell_type": "code",
      "source": [
        "#it's a Old version of sklearn.cross_validation - sklearn.model_selection\n",
        "from sklearn.model_selection import train_test_split"
      ],
      "metadata": {
        "id": "6EIrMhLQTXOT"
      },
      "execution_count": 22,
      "outputs": []
    },
    {
      "cell_type": "code",
      "source": [
        "Features = df[['age','male','cigsPerDay','totChol','sysBP','glucose','TenYearCHD']]"
      ],
      "metadata": {
        "id": "siw_PuYhWF8_"
      },
      "execution_count": 23,
      "outputs": []
    },
    {
      "cell_type": "code",
      "source": [
        "x = Features.iloc[:,:-1]"
      ],
      "metadata": {
        "id": "Fo1L-pPbWhiR"
      },
      "execution_count": 24,
      "outputs": []
    },
    {
      "cell_type": "code",
      "source": [
        "y = Features.iloc[:,-1]"
      ],
      "metadata": {
        "id": "xa9J7hMpWnZd"
      },
      "execution_count": 25,
      "outputs": []
    },
    {
      "cell_type": "code",
      "source": [
        "x_train,x_test,y_train,y_test = train_test_split(x,y,test_size=.20,random_state=42)"
      ],
      "metadata": {
        "id": "KBczTmb5WtJs"
      },
      "execution_count": 26,
      "outputs": []
    },
    {
      "cell_type": "markdown",
      "source": [
        "**Logistic Regression**"
      ],
      "metadata": {
        "id": "ucp7_NIsSeLX"
      }
    },
    {
      "cell_type": "code",
      "source": [
        "from sklearn.linear_model import LogisticRegression\n",
        "\n",
        "log = LogisticRegression()"
      ],
      "metadata": {
        "id": "D8t3arynSjGJ"
      },
      "execution_count": 27,
      "outputs": []
    },
    {
      "cell_type": "code",
      "source": [
        "log.fit(x_train,y_train)"
      ],
      "metadata": {
        "colab": {
          "base_uri": "https://localhost:8080/"
        },
        "id": "3unYwnJmXQ1I",
        "outputId": "f9f07967-0e8f-42d8-f572-777678d76375"
      },
      "execution_count": 28,
      "outputs": [
        {
          "output_type": "execute_result",
          "data": {
            "text/plain": [
              "LogisticRegression()"
            ]
          },
          "metadata": {},
          "execution_count": 28
        }
      ]
    },
    {
      "cell_type": "code",
      "source": [
        "y_pred = log.predict(x_test)"
      ],
      "metadata": {
        "id": "Cnn9z8ngXZZW"
      },
      "execution_count": 29,
      "outputs": []
    },
    {
      "cell_type": "markdown",
      "source": [
        "**Model Evaluation**"
      ],
      "metadata": {
        "id": "sFuqZA3JXmr2"
      }
    },
    {
      "cell_type": "code",
      "source": [
        "sklearn.metrics.accuracy_score(y_test,y_pred)\n",
        "#convert into answer * 100 example 0.844*100 = 84.4\n",
        "#this is the accuracy Model is  84.4"
      ],
      "metadata": {
        "colab": {
          "base_uri": "https://localhost:8080/"
        },
        "id": "Dr0I-UYKXoGl",
        "outputId": "9d5670d3-987c-43d3-ee68-5af8b3e467fb"
      },
      "execution_count": 31,
      "outputs": [
        {
          "output_type": "execute_result",
          "data": {
            "text/plain": [
              "0.844"
            ]
          },
          "metadata": {},
          "execution_count": 31
        }
      ]
    },
    {
      "cell_type": "markdown",
      "source": [
        "**Confusion matrix**"
      ],
      "metadata": {
        "id": "DHU6UzuXYPaj"
      }
    },
    {
      "cell_type": "code",
      "source": [
        "from sklearn.metrics import confusion_matrix\n",
        "import matplotlib.pyplot as plt"
      ],
      "metadata": {
        "id": "tZ8FOlFfYG9R"
      },
      "execution_count": 37,
      "outputs": []
    },
    {
      "cell_type": "code",
      "source": [
        "CF = confusion_matrix(y_test,y_pred)"
      ],
      "metadata": {
        "id": "z0SfuDR5Ycls"
      },
      "execution_count": 33,
      "outputs": []
    },
    {
      "cell_type": "code",
      "source": [
        "conf_matrix = pd.DataFrame(data=CF,columns=['Predicted:0','Predicted:1'],index=['Actual:0','Actual:1'])"
      ],
      "metadata": {
        "id": "1EOyPzxIY5uO"
      },
      "execution_count": 34,
      "outputs": []
    },
    {
      "cell_type": "code",
      "source": [
        "plt.figure()"
      ],
      "metadata": {
        "colab": {
          "base_uri": "https://localhost:8080/",
          "height": 52
        },
        "id": "B8lB0xszZTPT",
        "outputId": "76188c42-3d93-429f-ef7e-0c9eef792865"
      },
      "execution_count": 38,
      "outputs": [
        {
          "output_type": "execute_result",
          "data": {
            "text/plain": [
              "<Figure size 432x288 with 0 Axes>"
            ]
          },
          "metadata": {},
          "execution_count": 38
        },
        {
          "output_type": "display_data",
          "data": {
            "text/plain": [
              "<Figure size 432x288 with 0 Axes>"
            ]
          },
          "metadata": {}
        }
      ]
    },
    {
      "cell_type": "code",
      "source": [
        "sn.heatmap(conf_matrix,annot=True,fmt='d',cmap=\"YlGnBu\")"
      ],
      "metadata": {
        "colab": {
          "base_uri": "https://localhost:8080/",
          "height": 282
        },
        "id": "PLb52oIDZbol",
        "outputId": "2c7bc7d4-5ffe-4689-8d77-ebf5fb531f98"
      },
      "execution_count": 44,
      "outputs": [
        {
          "output_type": "execute_result",
          "data": {
            "text/plain": [
              "<matplotlib.axes._subplots.AxesSubplot at 0x7fc646cf1a30>"
            ]
          },
          "metadata": {},
          "execution_count": 44
        },
        {
          "output_type": "display_data",
          "data": {
            "text/plain": [
              "<Figure size 432x288 with 2 Axes>"
            ],
            "image/png": "[encoded data removed]"
          },
          "metadata": {
            "needs_background": "light"
          }
        }
      ]
    },
    {
      "cell_type": "markdown",
      "source": [
        "The confusion matrix shows 625+8 = 633 correct predictions and 112+5= 117 incorrect ones.\n",
        "\n",
        "True Positives: 8\n",
        "\n",
        "True Negatives: 625\n",
        "\n",
        "False Positives: 5 (Type I error)\n",
        "\n",
        "False Negatives: 8 ( Type II error)"
      ],
      "metadata": {
        "id": "_FNqDcULajAS"
      }
    },
    {
      "cell_type": "markdown",
      "source": [
        "**Classifier's Performance**"
      ],
      "metadata": {
        "id": "Dcwaxt8qbTYh"
      }
    },
    {
      "cell_type": "code",
      "source": [
        "print(conf_matrix)"
      ],
      "metadata": {
        "colab": {
          "base_uri": "https://localhost:8080/"
        },
        "id": "VIUGrxmdbWPZ",
        "outputId": "e033b5a1-d452-4653-d601-5bfbef1fb38a"
      },
      "execution_count": 45,
      "outputs": [
        {
          "output_type": "stream",
          "name": "stdout",
          "text": [
            "          Predicted:0  Predicted:1\n",
            "Actual:0          625            5\n",
            "Actual:1          112            8\n"
          ]
        }
      ]
    },
    {
      "cell_type": "code",
      "source": [
        "from sklearn.metrics import classification_report"
      ],
      "metadata": {
        "id": "MZ9E5sd_futB"
      },
      "execution_count": 55,
      "outputs": []
    },
    {
      "cell_type": "code",
      "source": [
        "print(classification_report(y_test,y_pred))"
      ],
      "metadata": {
        "colab": {
          "base_uri": "https://localhost:8080/"
        },
        "id": "ibOiKpG4fyKt",
        "outputId": "392502ed-9a15-4252-e495-4150de59cda3"
      },
      "execution_count": 56,
      "outputs": [
        {
          "output_type": "stream",
          "name": "stdout",
          "text": [
            "              precision    recall  f1-score   support\n",
            "\n",
            "           0       0.85      0.99      0.91       630\n",
            "           1       0.62      0.07      0.12       120\n",
            "\n",
            "    accuracy                           0.84       750\n",
            "   macro avg       0.73      0.53      0.52       750\n",
            "weighted avg       0.81      0.84      0.79       750\n",
            "\n"
          ]
        }
      ]
    },
    {
      "cell_type": "code",
      "source": [
        "print(conf_matrix)"
      ],
      "metadata": {
        "colab": {
          "base_uri": "https://localhost:8080/"
        },
        "id": "lknO098VgLj_",
        "outputId": "5601a9da-cf86-4003-991f-7c233b16300e"
      },
      "execution_count": 62,
      "outputs": [
        {
          "output_type": "stream",
          "name": "stdout",
          "text": [
            "          Predicted:0  Predicted:1\n",
            "Actual:0          625            5\n",
            "Actual:1          112            8\n"
          ]
        }
      ]
    },
    {
      "cell_type": "markdown",
      "source": [
        "![WhatsApp Image 2023-02-01 at 4.17.14 PM.jpeg](data:image/jpeg;base64,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)"
      ],
      "metadata": {
        "id": "jFoBhObylgEQ"
      }
    },
    {
      "cell_type": "markdown",
      "source": [
        "PRECISION FORMULAE  : 0 VALUE\n",
        "\n",
        "P = TP / TP + FP"
      ],
      "metadata": {
        "id": "72QHS5RnlvsQ"
      }
    },
    {
      "cell_type": "markdown",
      "source": [
        "P = 625 / 625 + 112 => 625 / 737 => 0.848 => 0.85"
      ],
      "metadata": {
        "id": "XhQwmPvnl5Vg"
      }
    },
    {
      "cell_type": "markdown",
      "source": [
        "RECALL FORMULAE : 0 VALUE\n",
        "\n",
        "R = TP / TP / FN"
      ],
      "metadata": {
        "id": "KfyhH-FrmI5r"
      }
    },
    {
      "cell_type": "markdown",
      "source": [
        "R = 625 / 625 + 5 => 625 / 630 => 0.99"
      ],
      "metadata": {
        "id": "ZgJUYK3MmP7M"
      }
    },
    {
      "cell_type": "markdown",
      "source": [
        "![WhatsApp Image 2023-02-01 at 5.00.48 PM.jpeg](data:image/jpeg;base64,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)"
      ],
      "metadata": {
        "id": "68LYbO-bvhX3"
      }
    },
    {
      "cell_type": "markdown",
      "source": [
        "PRECISION FORMULAE  : 1 VALUE\n",
        "\n",
        "P = TP / TP + FP"
      ],
      "metadata": {
        "id": "03l8oZvWvrCY"
      }
    },
    {
      "cell_type": "markdown",
      "source": [
        "P = 08 / 08 + 05 => 08 / 13 => 0.61"
      ],
      "metadata": {
        "id": "y00U7aeVvvBo"
      }
    },
    {
      "cell_type": "markdown",
      "source": [
        "RECALL FORMULAE : 1 VALUE\n",
        "\n",
        "R = TP / TP / FN"
      ],
      "metadata": {
        "id": "ps2H1knkvzJs"
      }
    },
    {
      "cell_type": "markdown",
      "source": [
        "R = 08 / 08 + 112 => 08 / 120 => 0.07"
      ],
      "metadata": {
        "id": "bKJ_a0iyv1Eg"
      }
    }
  ]
}